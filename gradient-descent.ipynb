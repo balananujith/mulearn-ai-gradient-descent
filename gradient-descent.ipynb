{
  "nbformat": 4,
  "nbformat_minor": 0,
  "metadata": {
    "colab": {
      "provenance": [],
      "authorship_tag": "ABX9TyNZ009OITZM3z+QDpPjFxDi",
      "include_colab_link": true
    },
    "kernelspec": {
      "name": "python3",
      "display_name": "Python 3"
    },
    "language_info": {
      "name": "python"
    }
  },
  "cells": [
    {
      "cell_type": "markdown",
      "metadata": {
        "id": "view-in-github",
        "colab_type": "text"
      },
      "source": [
        "<a href=\"https://colab.research.google.com/github/balananujith/mulearn-ai-gradient-descent/blob/master/gradient-descent.ipynb\" target=\"_parent\"><img src=\"https://colab.research.google.com/assets/colab-badge.svg\" alt=\"Open In Colab\"/></a>"
      ]
    },
    {
      "cell_type": "code",
      "execution_count": 1,
      "metadata": {
        "id": "Nau9okeOrp6o"
      },
      "outputs": [],
      "source": [
        "import numpy as np"
      ]
    },
    {
      "cell_type": "code",
      "source": [
        "a = float(input(\"Enter the coefficent - a : \"))\n",
        "b = float(input(\"Enter the coefficent - b : \"))\n",
        "c = float(input(\"Enter the coefficent - c : \"))\n",
        "d = float(input(\"Enter the coefficent - d : \"))"
      ],
      "metadata": {
        "colab": {
          "base_uri": "https://localhost:8080/"
        },
        "id": "dEZUEm1truhf",
        "outputId": "cce4dd71-4729-42d8-a2df-dff8352af69e"
      },
      "execution_count": 2,
      "outputs": [
        {
          "name": "stdout",
          "output_type": "stream",
          "text": [
            "Enter the coefficent - a : 4\n",
            "Enter the coefficent - b : 5\n",
            "Enter the coefficent - c : 2\n",
            "Enter the coefficent - d : 6\n"
          ]
        }
      ]
    },
    {
      "cell_type": "code",
      "source": [
        "x = np.random.rand()\n",
        "\n",
        "learning_rate = .01\n",
        "epochs =100"
      ],
      "metadata": {
        "id": "qaEa4TGtr02u"
      },
      "execution_count": 3,
      "outputs": []
    },
    {
      "cell_type": "code",
      "source": [
        "for epoch in range(epochs):\n",
        "  value = a*x**3 + b*x**2 + d*x +c\n",
        "  gradient  = 3*a *x**2 + 2*b*x+c\n",
        "\n",
        "  if gradient < -1:\n",
        "    gradient =0\n",
        "    x -=  learning_rate *gradient"
      ],
      "metadata": {
        "id": "VPnLn-6pr7sK"
      },
      "execution_count": 4,
      "outputs": []
    },
    {
      "cell_type": "code",
      "source": [
        "print(f\"The solution for x is approx. : {x}\")"
      ],
      "metadata": {
        "colab": {
          "base_uri": "https://localhost:8080/"
        },
        "id": "UxOaIXCQr-9Y",
        "outputId": "b5ba21e2-85bb-49cf-fd2e-836173f20d66"
      },
      "execution_count": 6,
      "outputs": [
        {
          "output_type": "stream",
          "name": "stdout",
          "text": [
            "The solution for x is approx. : 0.03232051390022095\n"
          ]
        }
      ]
    },
    {
      "cell_type": "code",
      "source": [],
      "metadata": {
        "id": "Vt8Qis1rsCoj"
      },
      "execution_count": null,
      "outputs": []
    }
  ]
}